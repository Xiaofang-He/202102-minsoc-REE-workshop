{
 "cells": [
  {
   "cell_type": "markdown",
   "metadata": {},
   "source": [
    "| [**Overview**](./00_overview.ipynb) |  **Examples:** |  [Selecting and Indexing Geochem Data](01_indexes_selectors.ipynb) | [Data Munging](02_munging.ipynb) | [Visualisation](03_visualisation.ipynb) |[lambdas](04_lambdas.ipynb) |\n",
    "|:-----|:-----|:-----|:-----|:-----|:-----|\n",
    "\n",
    "\n",
    "## Selecting and Indexing Geochemical Data\n",
    "\n",
    "The `pyrolite.pyrochem` API provides access to indexing and transformation functions. This allows easy subsetting of geochemical datasets which can otherwise be unweildly (expecially as the number of columns increases..). To provide a simple illustration we generate a synthetic dataset to work from, which contains an array of typical geochemical measures - oxide components, element components (here as ppm), element ratios and isotope ratios. While this size dataset is managable, some of the indexing tools pyrolite provides make it straightforward to pull out different parts of the dataset.\n",
    "\n",
    "First let's create some data to play with:"
   ]
  },
  {
   "cell_type": "code",
   "execution_count": 1,
   "metadata": {
    "collapsed": false,
    "jupyter": {
     "outputs_hidden": false
    }
   },
   "outputs": [
    {
     "data": {
      "text/html": [
       "<div>\n",
       "<style scoped>\n",
       "    .dataframe tbody tr th:only-of-type {\n",
       "        vertical-align: middle;\n",
       "    }\n",
       "\n",
       "    .dataframe tbody tr th {\n",
       "        vertical-align: top;\n",
       "    }\n",
       "\n",
       "    .dataframe thead th {\n",
       "        text-align: right;\n",
       "    }\n",
       "</style>\n",
       "<table border=\"1\" class=\"dataframe\">\n",
       "  <thead>\n",
       "    <tr style=\"text-align: right;\">\n",
       "      <th></th>\n",
       "      <th>CaO</th>\n",
       "      <th>MgO</th>\n",
       "      <th>SiO2</th>\n",
       "      <th>FeO</th>\n",
       "      <th>Na2O</th>\n",
       "      <th>Ni</th>\n",
       "      <th>Ti</th>\n",
       "      <th>La</th>\n",
       "      <th>Lu</th>\n",
       "      <th>Te</th>\n",
       "      <th>Sr87/Sr86</th>\n",
       "    </tr>\n",
       "  </thead>\n",
       "  <tbody>\n",
       "    <tr>\n",
       "      <th>0</th>\n",
       "      <td>0.954</td>\n",
       "      <td>23.453</td>\n",
       "      <td>7.353</td>\n",
       "      <td>3.872</td>\n",
       "      <td>14.159</td>\n",
       "      <td>127.588</td>\n",
       "      <td>38.187</td>\n",
       "      <td>32.554</td>\n",
       "      <td>33.789</td>\n",
       "      <td>269.977</td>\n",
       "      <td>0.71</td>\n",
       "    </tr>\n",
       "    <tr>\n",
       "      <th>1</th>\n",
       "      <td>0.846</td>\n",
       "      <td>27.894</td>\n",
       "      <td>7.279</td>\n",
       "      <td>4.365</td>\n",
       "      <td>15.610</td>\n",
       "      <td>114.509</td>\n",
       "      <td>30.983</td>\n",
       "      <td>31.776</td>\n",
       "      <td>31.538</td>\n",
       "      <td>231.254</td>\n",
       "      <td>0.71</td>\n",
       "    </tr>\n",
       "    <tr>\n",
       "      <th>2</th>\n",
       "      <td>0.879</td>\n",
       "      <td>28.094</td>\n",
       "      <td>6.752</td>\n",
       "      <td>4.190</td>\n",
       "      <td>16.441</td>\n",
       "      <td>122.442</td>\n",
       "      <td>26.854</td>\n",
       "      <td>33.936</td>\n",
       "      <td>32.686</td>\n",
       "      <td>220.517</td>\n",
       "      <td>0.71</td>\n",
       "    </tr>\n",
       "    <tr>\n",
       "      <th>3</th>\n",
       "      <td>0.918</td>\n",
       "      <td>22.381</td>\n",
       "      <td>6.233</td>\n",
       "      <td>3.399</td>\n",
       "      <td>16.462</td>\n",
       "      <td>132.042</td>\n",
       "      <td>33.109</td>\n",
       "      <td>33.167</td>\n",
       "      <td>37.957</td>\n",
       "      <td>269.797</td>\n",
       "      <td>0.71</td>\n",
       "    </tr>\n",
       "    <tr>\n",
       "      <th>4</th>\n",
       "      <td>0.837</td>\n",
       "      <td>25.481</td>\n",
       "      <td>6.557</td>\n",
       "      <td>3.862</td>\n",
       "      <td>16.273</td>\n",
       "      <td>127.267</td>\n",
       "      <td>32.482</td>\n",
       "      <td>34.650</td>\n",
       "      <td>33.865</td>\n",
       "      <td>241.640</td>\n",
       "      <td>0.71</td>\n",
       "    </tr>\n",
       "    <tr>\n",
       "      <th>5</th>\n",
       "      <td>0.818</td>\n",
       "      <td>28.745</td>\n",
       "      <td>6.804</td>\n",
       "      <td>4.112</td>\n",
       "      <td>15.902</td>\n",
       "      <td>117.508</td>\n",
       "      <td>30.204</td>\n",
       "      <td>33.493</td>\n",
       "      <td>31.953</td>\n",
       "      <td>223.024</td>\n",
       "      <td>0.71</td>\n",
       "    </tr>\n",
       "    <tr>\n",
       "      <th>6</th>\n",
       "      <td>0.992</td>\n",
       "      <td>24.937</td>\n",
       "      <td>6.758</td>\n",
       "      <td>4.022</td>\n",
       "      <td>18.057</td>\n",
       "      <td>119.914</td>\n",
       "      <td>33.033</td>\n",
       "      <td>33.901</td>\n",
       "      <td>36.176</td>\n",
       "      <td>229.315</td>\n",
       "      <td>0.71</td>\n",
       "    </tr>\n",
       "    <tr>\n",
       "      <th>7</th>\n",
       "      <td>1.013</td>\n",
       "      <td>23.011</td>\n",
       "      <td>7.319</td>\n",
       "      <td>4.231</td>\n",
       "      <td>18.305</td>\n",
       "      <td>133.374</td>\n",
       "      <td>34.368</td>\n",
       "      <td>33.624</td>\n",
       "      <td>38.056</td>\n",
       "      <td>221.775</td>\n",
       "      <td>0.71</td>\n",
       "    </tr>\n",
       "    <tr>\n",
       "      <th>8</th>\n",
       "      <td>0.945</td>\n",
       "      <td>21.912</td>\n",
       "      <td>6.573</td>\n",
       "      <td>3.416</td>\n",
       "      <td>14.514</td>\n",
       "      <td>133.324</td>\n",
       "      <td>34.214</td>\n",
       "      <td>32.563</td>\n",
       "      <td>34.943</td>\n",
       "      <td>291.361</td>\n",
       "      <td>0.71</td>\n",
       "    </tr>\n",
       "    <tr>\n",
       "      <th>9</th>\n",
       "      <td>0.920</td>\n",
       "      <td>24.515</td>\n",
       "      <td>6.955</td>\n",
       "      <td>3.922</td>\n",
       "      <td>15.982</td>\n",
       "      <td>123.703</td>\n",
       "      <td>33.323</td>\n",
       "      <td>32.410</td>\n",
       "      <td>34.168</td>\n",
       "      <td>253.457</td>\n",
       "      <td>0.71</td>\n",
       "    </tr>\n",
       "  </tbody>\n",
       "</table>\n",
       "</div>"
      ],
      "text/plain": [
       "     CaO     MgO   SiO2    FeO    Na2O       Ni      Ti      La      Lu  \\\n",
       "0  0.954  23.453  7.353  3.872  14.159  127.588  38.187  32.554  33.789   \n",
       "1  0.846  27.894  7.279  4.365  15.610  114.509  30.983  31.776  31.538   \n",
       "2  0.879  28.094  6.752  4.190  16.441  122.442  26.854  33.936  32.686   \n",
       "3  0.918  22.381  6.233  3.399  16.462  132.042  33.109  33.167  37.957   \n",
       "4  0.837  25.481  6.557  3.862  16.273  127.267  32.482  34.650  33.865   \n",
       "5  0.818  28.745  6.804  4.112  15.902  117.508  30.204  33.493  31.953   \n",
       "6  0.992  24.937  6.758  4.022  18.057  119.914  33.033  33.901  36.176   \n",
       "7  1.013  23.011  7.319  4.231  18.305  133.374  34.368  33.624  38.056   \n",
       "8  0.945  21.912  6.573  3.416  14.514  133.324  34.214  32.563  34.943   \n",
       "9  0.920  24.515  6.955  3.922  15.982  123.703  33.323  32.410  34.168   \n",
       "\n",
       "        Te  Sr87/Sr86  \n",
       "0  269.977       0.71  \n",
       "1  231.254       0.71  \n",
       "2  220.517       0.71  \n",
       "3  269.797       0.71  \n",
       "4  241.640       0.71  \n",
       "5  223.024       0.71  \n",
       "6  229.315       0.71  \n",
       "7  221.775       0.71  \n",
       "8  291.361       0.71  \n",
       "9  253.457       0.71  "
      ]
     },
     "execution_count": 1,
     "metadata": {},
     "output_type": "execute_result"
    }
   ],
   "source": [
    "import pyrolite.geochem\n",
    "import pandas as pd\n",
    "import numpy as np\n",
    "from pyrolite.util.synthetic import normal_frame\n",
    "\n",
    "pd.set_option(\"precision\", 3)  # smaller graphical outputs\n",
    " \n",
    "df = normal_frame(columns=['CaO', 'MgO', 'SiO2', 'FeO','Na2O', 'Ni', 'Ti', 'La', 'Lu', 'Te']) * 100\n",
    "df[['Ni', 'Ti', 'La', 'Lu', 'Te']] *= 10\n",
    "df['Sr87/Sr86'] = 0.0700  / 0.0986 + np.random.randn(df.index.size) * 0.0001\n",
    "df"
   ]
  },
  {
   "cell_type": "markdown",
   "metadata": {},
   "source": [
    "### Selecting Data"
   ]
  },
  {
   "cell_type": "code",
   "execution_count": 2,
   "metadata": {
    "collapsed": false,
    "jupyter": {
     "outputs_hidden": false
    }
   },
   "outputs": [
    {
     "data": {
      "text/html": [
       "<div>\n",
       "<style scoped>\n",
       "    .dataframe tbody tr th:only-of-type {\n",
       "        vertical-align: middle;\n",
       "    }\n",
       "\n",
       "    .dataframe tbody tr th {\n",
       "        vertical-align: top;\n",
       "    }\n",
       "\n",
       "    .dataframe thead th {\n",
       "        text-align: right;\n",
       "    }\n",
       "</style>\n",
       "<table border=\"1\" class=\"dataframe\">\n",
       "  <thead>\n",
       "    <tr style=\"text-align: right;\">\n",
       "      <th></th>\n",
       "      <th>CaO</th>\n",
       "      <th>MgO</th>\n",
       "      <th>SiO2</th>\n",
       "      <th>FeO</th>\n",
       "      <th>Na2O</th>\n",
       "    </tr>\n",
       "  </thead>\n",
       "  <tbody>\n",
       "    <tr>\n",
       "      <th>0</th>\n",
       "      <td>0.954</td>\n",
       "      <td>23.453</td>\n",
       "      <td>7.353</td>\n",
       "      <td>3.872</td>\n",
       "      <td>14.159</td>\n",
       "    </tr>\n",
       "    <tr>\n",
       "      <th>1</th>\n",
       "      <td>0.846</td>\n",
       "      <td>27.894</td>\n",
       "      <td>7.279</td>\n",
       "      <td>4.365</td>\n",
       "      <td>15.610</td>\n",
       "    </tr>\n",
       "  </tbody>\n",
       "</table>\n",
       "</div>"
      ],
      "text/plain": [
       "     CaO     MgO   SiO2    FeO    Na2O\n",
       "0  0.954  23.453  7.353  3.872  14.159\n",
       "1  0.846  27.894  7.279  4.365  15.610"
      ]
     },
     "execution_count": 2,
     "metadata": {},
     "output_type": "execute_result"
    }
   ],
   "source": [
    "df.head(2).pyrochem.oxides"
   ]
  },
  {
   "cell_type": "code",
   "execution_count": 3,
   "metadata": {
    "collapsed": false,
    "jupyter": {
     "outputs_hidden": false
    }
   },
   "outputs": [
    {
     "data": {
      "text/html": [
       "<div>\n",
       "<style scoped>\n",
       "    .dataframe tbody tr th:only-of-type {\n",
       "        vertical-align: middle;\n",
       "    }\n",
       "\n",
       "    .dataframe tbody tr th {\n",
       "        vertical-align: top;\n",
       "    }\n",
       "\n",
       "    .dataframe thead th {\n",
       "        text-align: right;\n",
       "    }\n",
       "</style>\n",
       "<table border=\"1\" class=\"dataframe\">\n",
       "  <thead>\n",
       "    <tr style=\"text-align: right;\">\n",
       "      <th></th>\n",
       "      <th>Ni</th>\n",
       "      <th>Ti</th>\n",
       "      <th>La</th>\n",
       "      <th>Lu</th>\n",
       "      <th>Te</th>\n",
       "    </tr>\n",
       "  </thead>\n",
       "  <tbody>\n",
       "    <tr>\n",
       "      <th>0</th>\n",
       "      <td>127.588</td>\n",
       "      <td>38.187</td>\n",
       "      <td>32.554</td>\n",
       "      <td>33.789</td>\n",
       "      <td>269.977</td>\n",
       "    </tr>\n",
       "    <tr>\n",
       "      <th>1</th>\n",
       "      <td>114.509</td>\n",
       "      <td>30.983</td>\n",
       "      <td>31.776</td>\n",
       "      <td>31.538</td>\n",
       "      <td>231.254</td>\n",
       "    </tr>\n",
       "  </tbody>\n",
       "</table>\n",
       "</div>"
      ],
      "text/plain": [
       "        Ni      Ti      La      Lu       Te\n",
       "0  127.588  38.187  32.554  33.789  269.977\n",
       "1  114.509  30.983  31.776  31.538  231.254"
      ]
     },
     "execution_count": 3,
     "metadata": {},
     "output_type": "execute_result"
    }
   ],
   "source": [
    "df.head(2).pyrochem.elements"
   ]
  },
  {
   "cell_type": "code",
   "execution_count": 4,
   "metadata": {
    "collapsed": false,
    "jupyter": {
     "outputs_hidden": false
    }
   },
   "outputs": [
    {
     "data": {
      "text/html": [
       "<div>\n",
       "<style scoped>\n",
       "    .dataframe tbody tr th:only-of-type {\n",
       "        vertical-align: middle;\n",
       "    }\n",
       "\n",
       "    .dataframe tbody tr th {\n",
       "        vertical-align: top;\n",
       "    }\n",
       "\n",
       "    .dataframe thead th {\n",
       "        text-align: right;\n",
       "    }\n",
       "</style>\n",
       "<table border=\"1\" class=\"dataframe\">\n",
       "  <thead>\n",
       "    <tr style=\"text-align: right;\">\n",
       "      <th></th>\n",
       "      <th>La</th>\n",
       "      <th>Lu</th>\n",
       "    </tr>\n",
       "  </thead>\n",
       "  <tbody>\n",
       "    <tr>\n",
       "      <th>0</th>\n",
       "      <td>32.554</td>\n",
       "      <td>33.789</td>\n",
       "    </tr>\n",
       "    <tr>\n",
       "      <th>1</th>\n",
       "      <td>31.776</td>\n",
       "      <td>31.538</td>\n",
       "    </tr>\n",
       "  </tbody>\n",
       "</table>\n",
       "</div>"
      ],
      "text/plain": [
       "       La      Lu\n",
       "0  32.554  33.789\n",
       "1  31.776  31.538"
      ]
     },
     "execution_count": 4,
     "metadata": {},
     "output_type": "execute_result"
    }
   ],
   "source": [
    "df.head(2).pyrochem.REE"
   ]
  },
  {
   "cell_type": "code",
   "execution_count": 5,
   "metadata": {
    "collapsed": false,
    "jupyter": {
     "outputs_hidden": false
    }
   },
   "outputs": [
    {
     "data": {
      "text/html": [
       "<div>\n",
       "<style scoped>\n",
       "    .dataframe tbody tr th:only-of-type {\n",
       "        vertical-align: middle;\n",
       "    }\n",
       "\n",
       "    .dataframe tbody tr th {\n",
       "        vertical-align: top;\n",
       "    }\n",
       "\n",
       "    .dataframe thead th {\n",
       "        text-align: right;\n",
       "    }\n",
       "</style>\n",
       "<table border=\"1\" class=\"dataframe\">\n",
       "  <thead>\n",
       "    <tr style=\"text-align: right;\">\n",
       "      <th></th>\n",
       "      <th>La</th>\n",
       "      <th>Lu</th>\n",
       "    </tr>\n",
       "  </thead>\n",
       "  <tbody>\n",
       "    <tr>\n",
       "      <th>0</th>\n",
       "      <td>32.554</td>\n",
       "      <td>33.789</td>\n",
       "    </tr>\n",
       "    <tr>\n",
       "      <th>1</th>\n",
       "      <td>31.776</td>\n",
       "      <td>31.538</td>\n",
       "    </tr>\n",
       "  </tbody>\n",
       "</table>\n",
       "</div>"
      ],
      "text/plain": [
       "       La      Lu\n",
       "0  32.554  33.789\n",
       "1  31.776  31.538"
      ]
     },
     "execution_count": 5,
     "metadata": {},
     "output_type": "execute_result"
    }
   ],
   "source": [
    "df.head(2).pyrochem.REY"
   ]
  },
  {
   "cell_type": "code",
   "execution_count": 6,
   "metadata": {
    "collapsed": false,
    "jupyter": {
     "outputs_hidden": false
    }
   },
   "outputs": [
    {
     "data": {
      "text/html": [
       "<div>\n",
       "<style scoped>\n",
       "    .dataframe tbody tr th:only-of-type {\n",
       "        vertical-align: middle;\n",
       "    }\n",
       "\n",
       "    .dataframe tbody tr th {\n",
       "        vertical-align: top;\n",
       "    }\n",
       "\n",
       "    .dataframe thead th {\n",
       "        text-align: right;\n",
       "    }\n",
       "</style>\n",
       "<table border=\"1\" class=\"dataframe\">\n",
       "  <thead>\n",
       "    <tr style=\"text-align: right;\">\n",
       "      <th></th>\n",
       "      <th>CaO</th>\n",
       "      <th>MgO</th>\n",
       "      <th>SiO2</th>\n",
       "      <th>FeO</th>\n",
       "      <th>Na2O</th>\n",
       "      <th>Ni</th>\n",
       "      <th>Ti</th>\n",
       "      <th>La</th>\n",
       "      <th>Lu</th>\n",
       "      <th>Te</th>\n",
       "    </tr>\n",
       "  </thead>\n",
       "  <tbody>\n",
       "    <tr>\n",
       "      <th>0</th>\n",
       "      <td>0.954</td>\n",
       "      <td>23.453</td>\n",
       "      <td>7.353</td>\n",
       "      <td>3.872</td>\n",
       "      <td>14.159</td>\n",
       "      <td>127.588</td>\n",
       "      <td>38.187</td>\n",
       "      <td>32.554</td>\n",
       "      <td>33.789</td>\n",
       "      <td>269.977</td>\n",
       "    </tr>\n",
       "    <tr>\n",
       "      <th>1</th>\n",
       "      <td>0.846</td>\n",
       "      <td>27.894</td>\n",
       "      <td>7.279</td>\n",
       "      <td>4.365</td>\n",
       "      <td>15.610</td>\n",
       "      <td>114.509</td>\n",
       "      <td>30.983</td>\n",
       "      <td>31.776</td>\n",
       "      <td>31.538</td>\n",
       "      <td>231.254</td>\n",
       "    </tr>\n",
       "  </tbody>\n",
       "</table>\n",
       "</div>"
      ],
      "text/plain": [
       "     CaO     MgO   SiO2    FeO    Na2O       Ni      Ti      La      Lu  \\\n",
       "0  0.954  23.453  7.353  3.872  14.159  127.588  38.187  32.554  33.789   \n",
       "1  0.846  27.894  7.279  4.365  15.610  114.509  30.983  31.776  31.538   \n",
       "\n",
       "        Te  \n",
       "0  269.977  \n",
       "1  231.254  "
      ]
     },
     "execution_count": 6,
     "metadata": {},
     "output_type": "execute_result"
    }
   ],
   "source": [
    "df.head(2).pyrochem.compositional"
   ]
  },
  {
   "cell_type": "code",
   "execution_count": 7,
   "metadata": {
    "collapsed": false,
    "jupyter": {
     "outputs_hidden": false
    }
   },
   "outputs": [
    {
     "data": {
      "text/html": [
       "<div>\n",
       "<style scoped>\n",
       "    .dataframe tbody tr th:only-of-type {\n",
       "        vertical-align: middle;\n",
       "    }\n",
       "\n",
       "    .dataframe tbody tr th {\n",
       "        vertical-align: top;\n",
       "    }\n",
       "\n",
       "    .dataframe thead th {\n",
       "        text-align: right;\n",
       "    }\n",
       "</style>\n",
       "<table border=\"1\" class=\"dataframe\">\n",
       "  <thead>\n",
       "    <tr style=\"text-align: right;\">\n",
       "      <th></th>\n",
       "      <th>Sr87/Sr86</th>\n",
       "    </tr>\n",
       "  </thead>\n",
       "  <tbody>\n",
       "    <tr>\n",
       "      <th>0</th>\n",
       "      <td>0.71</td>\n",
       "    </tr>\n",
       "    <tr>\n",
       "      <th>1</th>\n",
       "      <td>0.71</td>\n",
       "    </tr>\n",
       "  </tbody>\n",
       "</table>\n",
       "</div>"
      ],
      "text/plain": [
       "   Sr87/Sr86\n",
       "0       0.71\n",
       "1       0.71"
      ]
     },
     "execution_count": 7,
     "metadata": {},
     "output_type": "execute_result"
    }
   ],
   "source": [
    "df.head(2).pyrochem.isotope_ratios"
   ]
  },
  {
   "cell_type": "markdown",
   "metadata": {},
   "source": [
    "------\n",
    "### Listing Columns\n",
    "If you just want the column names, it's easy enough to get those too (these are actually used in the indexing above):"
   ]
  },
  {
   "cell_type": "code",
   "execution_count": 8,
   "metadata": {
    "collapsed": false,
    "jupyter": {
     "outputs_hidden": false
    }
   },
   "outputs": [
    {
     "data": {
      "text/plain": [
       "['CaO', 'MgO', 'SiO2', 'FeO', 'Na2O']"
      ]
     },
     "execution_count": 8,
     "metadata": {},
     "output_type": "execute_result"
    }
   ],
   "source": [
    "df.pyrochem.list_oxides"
   ]
  },
  {
   "cell_type": "code",
   "execution_count": 9,
   "metadata": {
    "collapsed": false,
    "jupyter": {
     "outputs_hidden": false
    }
   },
   "outputs": [
    {
     "data": {
      "text/plain": [
       "['Ni', 'Ti', 'La', 'Lu', 'Te']"
      ]
     },
     "execution_count": 9,
     "metadata": {},
     "output_type": "execute_result"
    }
   ],
   "source": [
    "df.pyrochem.list_elements"
   ]
  },
  {
   "cell_type": "code",
   "execution_count": 10,
   "metadata": {
    "collapsed": false,
    "jupyter": {
     "outputs_hidden": false
    }
   },
   "outputs": [
    {
     "data": {
      "text/plain": [
       "['La', 'Lu']"
      ]
     },
     "execution_count": 10,
     "metadata": {},
     "output_type": "execute_result"
    }
   ],
   "source": [
    "df.pyrochem.list_REE"
   ]
  },
  {
   "cell_type": "code",
   "execution_count": 11,
   "metadata": {
    "collapsed": false,
    "jupyter": {
     "outputs_hidden": false
    }
   },
   "outputs": [
    {
     "data": {
      "text/plain": [
       "['CaO', 'MgO', 'SiO2', 'FeO', 'Na2O', 'Ni', 'Ti', 'La', 'Lu', 'Te']"
      ]
     },
     "execution_count": 11,
     "metadata": {},
     "output_type": "execute_result"
    }
   ],
   "source": [
    "df.pyrochem.list_compositional"
   ]
  },
  {
   "cell_type": "code",
   "execution_count": 12,
   "metadata": {
    "collapsed": false,
    "jupyter": {
     "outputs_hidden": false
    }
   },
   "outputs": [
    {
     "data": {
      "text/plain": [
       "['Sr87/Sr86']"
      ]
     },
     "execution_count": 12,
     "metadata": {},
     "output_type": "execute_result"
    }
   ],
   "source": [
    "df.pyrochem.list_isotope_ratios"
   ]
  },
  {
   "cell_type": "markdown",
   "metadata": {},
   "source": [
    "----\n",
    "### Using Indexers, Scaling\n",
    "\n",
    "You can also use these indexers for assignment, where the dimensionality of the dataset doesn't change. While you can transform elements and oxide abundnace units easily when you remember the relative scales, `pyrolite` provides some functions such that you don't have to rely on your memory. Here we create a copy of the dataframe and within it revert the change we made above - so these should be the orignal ppm values. This method provides an easy way to explicitly declare your intention when changing units - and makes sure the relative scales are correct!"
   ]
  },
  {
   "cell_type": "code",
   "execution_count": 13,
   "metadata": {},
   "outputs": [],
   "source": [
    "from pyrolite.util.units import scale\n",
    "\n",
    "els = df.pyrochem.elements\n",
    "els.pyrochem.elements *= scale('ppm', 'wt%')"
   ]
  },
  {
   "cell_type": "code",
   "execution_count": 14,
   "metadata": {},
   "outputs": [
    {
     "data": {
      "text/plain": [
       "(        Ni      Ti      La      Lu       Te\n",
       " 0  127.588  38.187  32.554  33.789  269.977\n",
       " 1  114.509  30.983  31.776  31.538  231.254\n",
       " 2  122.442  26.854  33.936  32.686  220.517\n",
       " 3  132.042  33.109  33.167  37.957  269.797\n",
       " 4  127.267  32.482  34.650  33.865  241.640\n",
       " 5  117.508  30.204  33.493  31.953  223.024\n",
       " 6  119.914  33.033  33.901  36.176  229.315\n",
       " 7  133.374  34.368  33.624  38.056  221.775\n",
       " 8  133.324  34.214  32.563  34.943  291.361\n",
       " 9  123.703  33.323  32.410  34.168  253.457,\n",
       "       Ni     Ti     La     Lu     Te\n",
       " 0  0.013  0.004  0.003  0.003  0.027\n",
       " 1  0.011  0.003  0.003  0.003  0.023\n",
       " 2  0.012  0.003  0.003  0.003  0.022\n",
       " 3  0.013  0.003  0.003  0.004  0.027\n",
       " 4  0.013  0.003  0.003  0.003  0.024\n",
       " 5  0.012  0.003  0.003  0.003  0.022\n",
       " 6  0.012  0.003  0.003  0.004  0.023\n",
       " 7  0.013  0.003  0.003  0.004  0.022\n",
       " 8  0.013  0.003  0.003  0.003  0.029\n",
       " 9  0.012  0.003  0.003  0.003  0.025)"
      ]
     },
     "execution_count": 14,
     "metadata": {},
     "output_type": "execute_result"
    }
   ],
   "source": [
    "df.pyrochem.elements, els.pyrochem.elements"
   ]
  },
  {
   "cell_type": "markdown",
   "metadata": {},
   "source": [
    "---\n",
    "### Converting Chemical Components \n",
    "\n",
    "`pyrolite` provides some straightfoward methods to calcuate element-oxide conversions (e.g. to transform Ti abundance to TiO2 abudnance), assuming that the system is open to oxygen (i.e. in this case the extra oxygen will be added to the composition). This interface also allows the user to quickly add ratios and specify redox pairs at the same time. For example, we can transform a copy of our dataframe to include extra ratios and change some of our oxide components to elements:"
   ]
  },
  {
   "cell_type": "code",
   "execution_count": 15,
   "metadata": {},
   "outputs": [
    {
     "data": {
      "text/html": [
       "<div>\n",
       "<style scoped>\n",
       "    .dataframe tbody tr th:only-of-type {\n",
       "        vertical-align: middle;\n",
       "    }\n",
       "\n",
       "    .dataframe tbody tr th {\n",
       "        vertical-align: top;\n",
       "    }\n",
       "\n",
       "    .dataframe thead th {\n",
       "        text-align: right;\n",
       "    }\n",
       "</style>\n",
       "<table border=\"1\" class=\"dataframe\">\n",
       "  <thead>\n",
       "    <tr style=\"text-align: right;\">\n",
       "      <th></th>\n",
       "      <th>Sr87/Sr86</th>\n",
       "      <th>MgO</th>\n",
       "      <th>SiO2</th>\n",
       "      <th>FeO</th>\n",
       "      <th>Ca</th>\n",
       "      <th>Te</th>\n",
       "      <th>Na</th>\n",
       "      <th>Na/Te</th>\n",
       "      <th>MgO/SiO2</th>\n",
       "    </tr>\n",
       "  </thead>\n",
       "  <tbody>\n",
       "    <tr>\n",
       "      <th>0</th>\n",
       "      <td>0.71</td>\n",
       "      <td>23.453</td>\n",
       "      <td>7.353</td>\n",
       "      <td>3.872</td>\n",
       "      <td>0.682</td>\n",
       "      <td>269.977</td>\n",
       "      <td>10.504</td>\n",
       "      <td>0.039</td>\n",
       "      <td>3.190</td>\n",
       "    </tr>\n",
       "    <tr>\n",
       "      <th>1</th>\n",
       "      <td>0.71</td>\n",
       "      <td>27.894</td>\n",
       "      <td>7.279</td>\n",
       "      <td>4.365</td>\n",
       "      <td>0.604</td>\n",
       "      <td>231.254</td>\n",
       "      <td>11.580</td>\n",
       "      <td>0.050</td>\n",
       "      <td>3.832</td>\n",
       "    </tr>\n",
       "    <tr>\n",
       "      <th>2</th>\n",
       "      <td>0.71</td>\n",
       "      <td>28.094</td>\n",
       "      <td>6.752</td>\n",
       "      <td>4.190</td>\n",
       "      <td>0.628</td>\n",
       "      <td>220.517</td>\n",
       "      <td>12.197</td>\n",
       "      <td>0.055</td>\n",
       "      <td>4.161</td>\n",
       "    </tr>\n",
       "    <tr>\n",
       "      <th>3</th>\n",
       "      <td>0.71</td>\n",
       "      <td>22.381</td>\n",
       "      <td>6.233</td>\n",
       "      <td>3.399</td>\n",
       "      <td>0.656</td>\n",
       "      <td>269.797</td>\n",
       "      <td>12.212</td>\n",
       "      <td>0.045</td>\n",
       "      <td>3.591</td>\n",
       "    </tr>\n",
       "    <tr>\n",
       "      <th>4</th>\n",
       "      <td>0.71</td>\n",
       "      <td>25.481</td>\n",
       "      <td>6.557</td>\n",
       "      <td>3.862</td>\n",
       "      <td>0.598</td>\n",
       "      <td>241.640</td>\n",
       "      <td>12.073</td>\n",
       "      <td>0.050</td>\n",
       "      <td>3.886</td>\n",
       "    </tr>\n",
       "    <tr>\n",
       "      <th>5</th>\n",
       "      <td>0.71</td>\n",
       "      <td>28.745</td>\n",
       "      <td>6.804</td>\n",
       "      <td>4.112</td>\n",
       "      <td>0.585</td>\n",
       "      <td>223.024</td>\n",
       "      <td>11.797</td>\n",
       "      <td>0.053</td>\n",
       "      <td>4.224</td>\n",
       "    </tr>\n",
       "    <tr>\n",
       "      <th>6</th>\n",
       "      <td>0.71</td>\n",
       "      <td>24.937</td>\n",
       "      <td>6.758</td>\n",
       "      <td>4.022</td>\n",
       "      <td>0.709</td>\n",
       "      <td>229.315</td>\n",
       "      <td>13.396</td>\n",
       "      <td>0.058</td>\n",
       "      <td>3.690</td>\n",
       "    </tr>\n",
       "    <tr>\n",
       "      <th>7</th>\n",
       "      <td>0.71</td>\n",
       "      <td>23.011</td>\n",
       "      <td>7.319</td>\n",
       "      <td>4.231</td>\n",
       "      <td>0.724</td>\n",
       "      <td>221.775</td>\n",
       "      <td>13.580</td>\n",
       "      <td>0.061</td>\n",
       "      <td>3.144</td>\n",
       "    </tr>\n",
       "    <tr>\n",
       "      <th>8</th>\n",
       "      <td>0.71</td>\n",
       "      <td>21.912</td>\n",
       "      <td>6.573</td>\n",
       "      <td>3.416</td>\n",
       "      <td>0.675</td>\n",
       "      <td>291.361</td>\n",
       "      <td>10.767</td>\n",
       "      <td>0.037</td>\n",
       "      <td>3.334</td>\n",
       "    </tr>\n",
       "    <tr>\n",
       "      <th>9</th>\n",
       "      <td>0.71</td>\n",
       "      <td>24.515</td>\n",
       "      <td>6.955</td>\n",
       "      <td>3.922</td>\n",
       "      <td>0.657</td>\n",
       "      <td>253.457</td>\n",
       "      <td>11.856</td>\n",
       "      <td>0.047</td>\n",
       "      <td>3.525</td>\n",
       "    </tr>\n",
       "  </tbody>\n",
       "</table>\n",
       "</div>"
      ],
      "text/plain": [
       "   Sr87/Sr86     MgO   SiO2    FeO     Ca       Te      Na  Na/Te  MgO/SiO2\n",
       "0       0.71  23.453  7.353  3.872  0.682  269.977  10.504  0.039     3.190\n",
       "1       0.71  27.894  7.279  4.365  0.604  231.254  11.580  0.050     3.832\n",
       "2       0.71  28.094  6.752  4.190  0.628  220.517  12.197  0.055     4.161\n",
       "3       0.71  22.381  6.233  3.399  0.656  269.797  12.212  0.045     3.591\n",
       "4       0.71  25.481  6.557  3.862  0.598  241.640  12.073  0.050     3.886\n",
       "5       0.71  28.745  6.804  4.112  0.585  223.024  11.797  0.053     4.224\n",
       "6       0.71  24.937  6.758  4.022  0.709  229.315  13.396  0.058     3.690\n",
       "7       0.71  23.011  7.319  4.231  0.724  221.775  13.580  0.061     3.144\n",
       "8       0.71  21.912  6.573  3.416  0.675  291.361  10.767  0.037     3.334\n",
       "9       0.71  24.515  6.955  3.922  0.657  253.457  11.856  0.047     3.525"
      ]
     },
     "execution_count": 15,
     "metadata": {},
     "output_type": "execute_result"
    }
   ],
   "source": [
    "df.pyrochem.convert_chemistry(\n",
    "    to=[\"MgO\", \"SiO2\", \"FeO\", \"Ca\", \"Te\", \"Na\", \"Na/Te\", \"MgO/SiO2\"]\n",
    ")"
   ]
  },
  {
   "cell_type": "markdown",
   "metadata": {},
   "source": [
    "In a similar way, we can also specify the molar speciation for redox species (so far just iron; others could be incorporated if they'll be useful). Here we adjust the total iron within our compositions (currently specified as FeO) to have a $Fe^{2+}/Fe^{3+}$ ratio of 9:1 (roughly what you might expect from a normal mantle-derived magma):"
   ]
  },
  {
   "cell_type": "code",
   "execution_count": 16,
   "metadata": {},
   "outputs": [
    {
     "data": {
      "text/html": [
       "<div>\n",
       "<style scoped>\n",
       "    .dataframe tbody tr th:only-of-type {\n",
       "        vertical-align: middle;\n",
       "    }\n",
       "\n",
       "    .dataframe tbody tr th {\n",
       "        vertical-align: top;\n",
       "    }\n",
       "\n",
       "    .dataframe thead th {\n",
       "        text-align: right;\n",
       "    }\n",
       "</style>\n",
       "<table border=\"1\" class=\"dataframe\">\n",
       "  <thead>\n",
       "    <tr style=\"text-align: right;\">\n",
       "      <th></th>\n",
       "      <th>Sr87/Sr86</th>\n",
       "      <th>FeO</th>\n",
       "      <th>Fe2O3</th>\n",
       "    </tr>\n",
       "  </thead>\n",
       "  <tbody>\n",
       "    <tr>\n",
       "      <th>0</th>\n",
       "      <td>0.71</td>\n",
       "      <td>3.485</td>\n",
       "      <td>0.430</td>\n",
       "    </tr>\n",
       "    <tr>\n",
       "      <th>1</th>\n",
       "      <td>0.71</td>\n",
       "      <td>3.929</td>\n",
       "      <td>0.485</td>\n",
       "    </tr>\n",
       "    <tr>\n",
       "      <th>2</th>\n",
       "      <td>0.71</td>\n",
       "      <td>3.771</td>\n",
       "      <td>0.466</td>\n",
       "    </tr>\n",
       "    <tr>\n",
       "      <th>3</th>\n",
       "      <td>0.71</td>\n",
       "      <td>3.059</td>\n",
       "      <td>0.378</td>\n",
       "    </tr>\n",
       "    <tr>\n",
       "      <th>4</th>\n",
       "      <td>0.71</td>\n",
       "      <td>3.476</td>\n",
       "      <td>0.429</td>\n",
       "    </tr>\n",
       "    <tr>\n",
       "      <th>5</th>\n",
       "      <td>0.71</td>\n",
       "      <td>3.701</td>\n",
       "      <td>0.457</td>\n",
       "    </tr>\n",
       "    <tr>\n",
       "      <th>6</th>\n",
       "      <td>0.71</td>\n",
       "      <td>3.620</td>\n",
       "      <td>0.447</td>\n",
       "    </tr>\n",
       "    <tr>\n",
       "      <th>7</th>\n",
       "      <td>0.71</td>\n",
       "      <td>3.808</td>\n",
       "      <td>0.470</td>\n",
       "    </tr>\n",
       "    <tr>\n",
       "      <th>8</th>\n",
       "      <td>0.71</td>\n",
       "      <td>3.074</td>\n",
       "      <td>0.380</td>\n",
       "    </tr>\n",
       "    <tr>\n",
       "      <th>9</th>\n",
       "      <td>0.71</td>\n",
       "      <td>3.530</td>\n",
       "      <td>0.436</td>\n",
       "    </tr>\n",
       "  </tbody>\n",
       "</table>\n",
       "</div>"
      ],
      "text/plain": [
       "   Sr87/Sr86    FeO  Fe2O3\n",
       "0       0.71  3.485  0.430\n",
       "1       0.71  3.929  0.485\n",
       "2       0.71  3.771  0.466\n",
       "3       0.71  3.059  0.378\n",
       "4       0.71  3.476  0.429\n",
       "5       0.71  3.701  0.457\n",
       "6       0.71  3.620  0.447\n",
       "7       0.71  3.808  0.470\n",
       "8       0.71  3.074  0.380\n",
       "9       0.71  3.530  0.436"
      ]
     },
     "execution_count": 16,
     "metadata": {},
     "output_type": "execute_result"
    }
   ],
   "source": [
    "df.pyrochem.convert_chemistry(to=[{\"FeO\": 0.9, \"Fe2O3\": 0.1}])"
   ]
  }
 ],
 "metadata": {
  "kernelspec": {
   "display_name": "pyrolite",
   "language": "python",
   "name": "pyrolite"
  },
  "language_info": {
   "codemirror_mode": {
    "name": "ipython",
    "version": 3
   },
   "file_extension": ".py",
   "mimetype": "text/x-python",
   "name": "python",
   "nbconvert_exporter": "python",
   "pygments_lexer": "ipython3",
   "version": "3.7.9"
  }
 },
 "nbformat": 4,
 "nbformat_minor": 4
}
